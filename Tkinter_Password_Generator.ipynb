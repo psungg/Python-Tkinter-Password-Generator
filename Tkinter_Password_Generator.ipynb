{
 "cells": [
  {
   "cell_type": "markdown",
   "id": "6468ddc5",
   "metadata": {},
   "source": [
    "# Tkinter Package for GUI"
   ]
  },
  {
   "cell_type": "code",
   "execution_count": 2,
   "id": "8681b0f2",
   "metadata": {},
   "outputs": [],
   "source": [
    "#1 Import the Tkinter Module\n",
    "import tkinter as tk\n",
    "\n",
    "#2 Create the GUI Application main window\n",
    "root = tk.Tk()\n",
    "\n",
    "#3 Add one or more widgets to the GUI application\n",
    "message = tk.Label(root, text = \"Hello World!\")\n",
    "\n",
    "#4 Choose Tkinter geometry management method\n",
    "message.pack() # or message = tk.Label(root, text = \"Hello World!\").pack()\n",
    "\n",
    "#5 Enter the main even loop to take action\n",
    "root.mainloop()\n",
    "\n",
    "quit()"
   ]
  },
  {
   "cell_type": "code",
   "execution_count": 1,
   "id": "4b6f1387",
   "metadata": {},
   "outputs": [],
   "source": [
    "#Pyperclip Module"
   ]
  },
  {
   "cell_type": "code",
   "execution_count": 2,
   "id": "7b7ef55e",
   "metadata": {},
   "outputs": [
    {
     "name": "stdout",
     "output_type": "stream",
     "text": [
      "Collecting pyperclip\n",
      "  Downloading pyperclip-1.8.2.tar.gz (20 kB)\n",
      "  Preparing metadata (setup.py): started\n",
      "  Preparing metadata (setup.py): finished with status 'done'\n",
      "Building wheels for collected packages: pyperclip\n",
      "  Building wheel for pyperclip (setup.py): started\n",
      "  Building wheel for pyperclip (setup.py): finished with status 'done'\n",
      "  Created wheel for pyperclip: filename=pyperclip-1.8.2-py3-none-any.whl size=11137 sha256=e164a54669d61a5ec009b94e840306328b81ce4ce74e7100f769d219a9a3745d\n",
      "  Stored in directory: c:\\users\\psungg\\appdata\\local\\pip\\cache\\wheels\\70\\bd\\ba\\8ae5c080c895c9360fe6e153acda2dee82527374467eae061b\n",
      "Successfully built pyperclip\n",
      "Installing collected packages: pyperclip\n",
      "Successfully installed pyperclip-1.8.2\n",
      "Note: you may need to restart the kernel to use updated packages.\n"
     ]
    }
   ],
   "source": [
    "pip install pyperclip"
   ]
  },
  {
   "cell_type": "code",
   "execution_count": 5,
   "id": "7afe78d5",
   "metadata": {},
   "outputs": [
    {
     "data": {
      "text/plain": [
       "'I love python'"
      ]
     },
     "execution_count": 5,
     "metadata": {},
     "output_type": "execute_result"
    }
   ],
   "source": [
    "import pyperclip\n",
    "pyperclip.copy(\"I love python\")\n",
    "pyperclip.paste()"
   ]
  },
  {
   "cell_type": "markdown",
   "id": "341042f9",
   "metadata": {},
   "source": [
    "# Password Generator Using Library and Module"
   ]
  },
  {
   "cell_type": "code",
   "execution_count": 1,
   "id": "80237231",
   "metadata": {},
   "outputs": [],
   "source": [
    "import random\n",
    "import string\n",
    "import tkinter as tk\n",
    "import pyperclip as pc\n",
    "\n",
    "def generate():\n",
    "    entry.delete(0, tk.END)\n",
    "    length = lengthInput.get()\n",
    "    \n",
    "    lower = string.ascii_lowercase\n",
    "    upper = string.ascii_uppercase\n",
    "    num = string.digits\n",
    "    symbol = string.punctuation\n",
    "    \n",
    "    lowChoice = lower + upper\n",
    "    mediumChoice = lowChoice + num\n",
    "    strongChoice = mediumChoice + symbol\n",
    "    password = \"\"\n",
    "    \n",
    "    if strengthInput.get() == 0:\n",
    "        for i in range(length):\n",
    "            password = password + random.choice(lowChoice)\n",
    "    elif strengthInput.get() == 1:\n",
    "        for i in range(length):\n",
    "            password = password + random.choice(mediumChoice)\n",
    "    elif strengthInput.get() == 2:\n",
    "        for i in range(length):\n",
    "            password = password + random.choice(strongChoice)\n",
    "    entry.insert(0, password)\n",
    "        \n",
    "def copy():\n",
    "    randomPassword = entry.get()\n",
    "    pc.copy(randomPassword)\n",
    "\n",
    "root = tk.Tk()\n",
    "lengthInput = tk.IntVar()\n",
    "strengthInput = tk.IntVar()\n",
    "\n",
    "root.title(\"Random Password Generator\")\n",
    "\n",
    "lengthLabel = tk.Label(root, text = \"Preferred Length\").grid(row =0, column = 0)\n",
    "lengthChoice = tk.Spinbox(root, from_ = 4, to = 10, textvariable = lengthInput).grid(row = 0, column = 1)\n",
    "\n",
    "strengthLabel = tk.Label(root, text = \"Preferred Strength\").grid(row = 0, column = 2)\n",
    "lowStrength = tk.Radiobutton(root, text = \"Low\", variable = strengthInput, value = 0).grid(row = 0, column = 3)\n",
    "mediumStrength = tk.Radiobutton(root, text = \"Medium\", variable = strengthInput, value = 1).grid(row = 0, column =4)\n",
    "strongStrength = tk.Radiobutton(root, text = \"Strong\", variable = strengthInput, value = 2).grid(row = 0, column =5)\n",
    "\n",
    "randomPassword = tk.Label(root, text = \"Password\").grid(row = 1, column = 0)\n",
    "entry = tk.Entry(root)\n",
    "entry.grid(row =1, column = 1)\n",
    "\n",
    "generateButton = tk.Button(root, text = \"Generate\", command = generate).grid(row =1, column = 2)\n",
    "copyButton = tk.Button(root, text = \"Copy\", command = copy).grid(row = 1, column =3)\n",
    "\n",
    "root.mainloop()\n",
    "\n",
    "quit()\n"
   ]
  },
  {
   "cell_type": "code",
   "execution_count": null,
   "id": "d108f294",
   "metadata": {},
   "outputs": [],
   "source": []
  }
 ],
 "metadata": {
  "kernelspec": {
   "display_name": "Python 3 (ipykernel)",
   "language": "python",
   "name": "python3"
  },
  "language_info": {
   "codemirror_mode": {
    "name": "ipython",
    "version": 3
   },
   "file_extension": ".py",
   "mimetype": "text/x-python",
   "name": "python",
   "nbconvert_exporter": "python",
   "pygments_lexer": "ipython3",
   "version": "3.11.3"
  }
 },
 "nbformat": 4,
 "nbformat_minor": 5
}
